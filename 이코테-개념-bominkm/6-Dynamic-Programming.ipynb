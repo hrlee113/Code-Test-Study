{
 "metadata": {
  "language_info": {
   "codemirror_mode": {
    "name": "ipython",
    "version": 3
   },
   "file_extension": ".py",
   "mimetype": "text/x-python",
   "name": "python",
   "nbconvert_exporter": "python",
   "pygments_lexer": "ipython3",
   "version": "3.8.5"
  },
  "orig_nbformat": 2,
  "kernelspec": {
   "name": "python385jvsc74a57bd0a08b232263a2c3586a8fb9be8156a4aaace43131629c72af5b236356470a6bed",
   "display_name": "Python 3.8.5 64-bit ('base': conda)"
  },
  "metadata": {
   "interpreter": {
    "hash": "a08b232263a2c3586a8fb9be8156a4aaace43131629c72af5b236356470a6bed"
   }
  }
 },
 "nbformat": 4,
 "nbformat_minor": 2,
 "cells": [
  {
   "source": [
    "# 다이나믹 프로그래밍"
   ],
   "cell_type": "markdown",
   "metadata": {}
  },
  {
   "source": [
    "* **다이나믹 프로그래밍**: 큰 문제를 작은 문제로 나누어 해결할 수 있는 방법\n",
    "* 적용: 재귀함수로 비효율적인 완전 탐색 작성 -> **조건에 해당하면** 코드를 개선하기\n",
    "* 출제경향: **점화식**을 떠올리기 어려워 기본 유형의 문제가 출제되는 경우가 많음"
   ],
   "cell_type": "markdown",
   "metadata": {}
  },
  {
   "source": [
    "## 1. 개념"
   ],
   "cell_type": "markdown",
   "metadata": {}
  },
  {
   "source": [
    "### 1-1. 다이나믹 프로그래밍"
   ],
   "cell_type": "markdown",
   "metadata": {}
  },
  {
   "source": [
    "* **다이나믹 프로그래밍(동적 계획법)**\n",
    "    - 메모리를 적절히 사용하여 수행 시간 효율성을 비약적으로 향상시키는 방법\n",
    "    - 이미 계산된 결과는 별도의 메모리 영역에 저장하여 다시 계산하지 않도록 함\n",
    "    - 일반적으로 탑다운(하향식)과 보텀업(상향식) 방식으로 구성됨\n",
    "    - 수열을 점화식으로 표현할 수 있는 것처럼 배열과 리스트로 구현 가능\n",
    "    - 대표적인 예시: 피보나치 수열"
   ],
   "cell_type": "markdown",
   "metadata": {}
  },
  {
   "source": [
    "* 사용 조건\n",
    "    1. **최적 부분 구조**: 큰 문제를 작은 문제로 나누어 해결할 수 있는 경우\n",
    "    2. **중복되는 부분 문제**: 동일한 작은 문제를 반복적으로 해결할 수 있는 경우"
   ],
   "cell_type": "markdown",
   "metadata": {}
  },
  {
   "cell_type": "code",
   "execution_count": 1,
   "metadata": {},
   "outputs": [
    {
     "output_type": "stream",
     "name": "stdout",
     "text": [
      "3\n"
     ]
    }
   ],
   "source": [
    "# 피보나치 수열\n",
    "def fibo(x):\n",
    "    if x==1 or x==2:\n",
    "        return 1\n",
    "    return fibo(x-1) + fibo(x-2)\n",
    "\n",
    "print(fibo(4))"
   ]
  },
  {
   "source": [
    "### 1-2. 메모이제이션"
   ],
   "cell_type": "markdown",
   "metadata": {}
  },
  {
   "source": [
    "* **메모이제이션(Memoization)**\n",
    "    * 다이나믹 프로그래밍을 구현하는 방법\n",
    "    * 한 번 계산한 결과를 메모리 공간에 **메모**해두었다가 같은 문제가 호출되면 결과를 그대로 가져옴\n",
    "    * 캐싱(Caching)"
   ],
   "cell_type": "markdown",
   "metadata": {}
  },
  {
   "source": [
    "### 1-3. 탑다운 vs 보텀업"
   ],
   "cell_type": "markdown",
   "metadata": {}
  },
  {
   "source": [
    "* 탑다운(하향식)\n",
    "    * 재귀함수 이용\n",
    "    * 큰 문제를 해결하기 위해 작은 문제들을 재귀적으로 호출하여 해결\n",
    "    * 사용된 결과값을 기록해두기 위해 메모이제이션 기법 사용"
   ],
   "cell_type": "markdown",
   "metadata": {}
  },
  {
   "source": [
    "* 보텀업(상향식)\n",
    "    * 아래쪽에서부터 작은 문제들을 하나씩 해결해나감\n",
    "    * 먼저 계산했던 문제들을 활용하여 다음 문제들을 해결함\n",
    "    * 반복문 사용"
   ],
   "cell_type": "markdown",
   "metadata": {}
  },
  {
   "cell_type": "code",
   "execution_count": 2,
   "metadata": {},
   "outputs": [
    {
     "output_type": "stream",
     "name": "stdout",
     "text": [
      "218922995834555169026\n"
     ]
    }
   ],
   "source": [
    "## 탑다운 방식 ##\n",
    "# 메모이제이션하기 위한 리스트\n",
    "d = [0] * 100\n",
    "\n",
    "def fibo(x):\n",
    "    # 종료 조건\n",
    "    if x == 1 or x == 2:\n",
    "        return 1\n",
    "    # 먼저 계산한 경우\n",
    "    if d[x] != 0:\n",
    "        return d[x]\n",
    "    # 아직 계산하지 않은 경우\n",
    "    # 점화식에 따라서 피보나치 결과 반환\n",
    "    d[x] = fibo(x - 1) + fibo(x - 2)\n",
    "    return d[x]\n",
    "\n",
    "print(fibo(99))"
   ]
  },
  {
   "cell_type": "code",
   "execution_count": 3,
   "metadata": {},
   "outputs": [
    {
     "output_type": "stream",
     "name": "stdout",
     "text": [
      "218922995834555169026\n"
     ]
    }
   ],
   "source": [
    "## 보텀업 방식 ##\n",
    "# 메모이제이션하기 위한 리스트\n",
    "d = [0] * 100\n",
    "\n",
    "d[1] = 1 # 첫 번째 피보나치 수\n",
    "d[2] = 1 # 두 번째 피보나치 수\n",
    "n = 99\n",
    "\n",
    "# 반복문\n",
    "# 작은 문제부터 해결\n",
    "for i in range(3, n + 1):\n",
    "    d[i] = d[i - 1] + d[i - 2]\n",
    "\n",
    "print(d[n])"
   ]
  },
  {
   "source": [
    "### 1-4. 메모이제이션 동작 분석"
   ],
   "cell_type": "markdown",
   "metadata": {}
  },
  {
   "source": [
    "![](images/메모이제이션.png)"
   ],
   "cell_type": "markdown",
   "metadata": {}
  },
  {
   "source": [
    "* 시간복잡도: $O(N)$\n",
    "* 지수시간만큼 소요되었던 과정을 다이나믹 프로그래밍을 이용하여 선형시간만큼 소요되게 함"
   ],
   "cell_type": "markdown",
   "metadata": {}
  },
  {
   "source": [
    "### 1-5. 다이나믹 프로그래밍 vs 분할 정복"
   ],
   "cell_type": "markdown",
   "metadata": {}
  },
  {
   "source": [
    "* 공통점: 큰 문제를 작은 문제로 나누어 해결할 수 있는 경우\n",
    "* 다이나밍 프로그래밍: 작은 문제들이 서로 영향을 미치며 작은 문제가 중복됨\n",
    "* 분할 정복: 동일한 문제가 반복적으로 계산되지 않음"
   ],
   "cell_type": "markdown",
   "metadata": {}
  },
  {
   "source": [
    "## 2. 문제"
   ],
   "cell_type": "markdown",
   "metadata": {}
  },
  {
   "source": [
    "### 2-1. 1로 만들기"
   ],
   "cell_type": "markdown",
   "metadata": {}
  },
  {
   "source": [
    "* 문제: 연산을 최소 횟수만 사용하여 1 만들기"
   ],
   "cell_type": "markdown",
   "metadata": {}
  },
  {
   "source": [
    "**Solution**"
   ],
   "cell_type": "markdown",
   "metadata": {}
  },
  {
   "source": [
    "* 점화식: $a_i = min(a_{i-1}, a_{i/2}, a_{i/3}, a_{i/5}) + 1$"
   ],
   "cell_type": "markdown",
   "metadata": {}
  },
  {
   "cell_type": "code",
   "execution_count": 10,
   "metadata": {},
   "outputs": [],
   "source": [
    "def solution(x):\n",
    "    # 메모이제이션 초기화\n",
    "    d = [0] * 1000001\n",
    "\n",
    "    for i in range(2, x + 1):\n",
    "        # 현재의 수에서 1을 빼는 경우\n",
    "        d[i] = d[i - 1] + 1\n",
    "        # 현재의 수가 2로 나누어 떨어지는 경우\n",
    "        if i % 2 == 0:\n",
    "            d[i] = min(d[i], d[i // 2] + 1)\n",
    "        # 현재의 수가 3으로 나누어 떨어지는 경우\n",
    "        if i % 3 == 0:\n",
    "            d[i] = min(d[i], d[i // 3] + 1)\n",
    "        # 현재의 수가 5로 나누어 떨어지는 경우\n",
    "        if i % 5 == 0:\n",
    "            d[i] = min(d[i], d[i // 5] + 1)\n",
    "    \n",
    "    return d[x]"
   ]
  },
  {
   "cell_type": "code",
   "execution_count": 12,
   "metadata": {},
   "outputs": [
    {
     "output_type": "execute_result",
     "data": {
      "text/plain": [
       "3"
      ]
     },
     "metadata": {},
     "execution_count": 12
    }
   ],
   "source": [
    "solution(26)"
   ]
  },
  {
   "source": [
    "### 2-2. 개미 전사"
   ],
   "cell_type": "markdown",
   "metadata": {}
  },
  {
   "source": [
    "* 문제: 인접한 창고를 약탈할 수 없을 때, 얻을 수 있는 식량의 최댓값"
   ],
   "cell_type": "markdown",
   "metadata": {}
  },
  {
   "source": [
    "**Solution**"
   ],
   "cell_type": "markdown",
   "metadata": {}
  },
  {
   "source": [
    "* 점화식: $a = max(a_{i-1}, a_{i-2} + k_i)$\n",
    "* (i-1)번째 식량창고와 (i-2)번째 식량창고 + i번째 식량창고 비교하여 큰 값 선택"
   ],
   "cell_type": "markdown",
   "metadata": {}
  },
  {
   "cell_type": "code",
   "execution_count": 4,
   "metadata": {},
   "outputs": [],
   "source": [
    "def solution(n, array):\n",
    "    # 메모이제이션 초기화\n",
    "    d = [0] * 100\n",
    "\n",
    "    # 초기값 설정\n",
    "    d[0] = array[0]\n",
    "    d[1] = max(array[0], array[1]) \n",
    "\n",
    "    # 보텀업\n",
    "    for i in range(2, n):\n",
    "        d[i] = max(d[i - 1], d[i - 2] + array[i])\n",
    "    \n",
    "    return d[n-1]"
   ]
  },
  {
   "cell_type": "code",
   "execution_count": 5,
   "metadata": {},
   "outputs": [
    {
     "output_type": "execute_result",
     "data": {
      "text/plain": [
       "8"
      ]
     },
     "metadata": {},
     "execution_count": 5
    }
   ],
   "source": [
    "solution(4, [1,3,1,5])"
   ]
  },
  {
   "source": [
    "### 2-3. 바닥 공사"
   ],
   "cell_type": "markdown",
   "metadata": {}
  },
  {
   "source": [
    "* 문제: 바닥을 타일로 채우는 모든 경우의 수"
   ],
   "cell_type": "markdown",
   "metadata": {}
  },
  {
   "source": [
    "**Solution**"
   ],
   "cell_type": "markdown",
   "metadata": {}
  },
  {
   "source": [
    "* 점화식: $a_i = a_{i-1} + 2a_{i-2}$\n",
    "* 왼쪽부터 $N-2$까지 이미 채워져 있는 경우 덮개를 채우는 방법은 2가지임"
   ],
   "cell_type": "markdown",
   "metadata": {}
  },
  {
   "cell_type": "code",
   "execution_count": 13,
   "metadata": {},
   "outputs": [],
   "source": [
    "def solution(n):\n",
    "    d = [0] * 1001\n",
    "\n",
    "    d[1] = 1\n",
    "    d[2] = 3\n",
    "    \n",
    "    for i in range(3, n + 1):\n",
    "        d[i] = (d[i - 1] + 2 * d[i - 2]) % 796796\n",
    "    \n",
    "    return d[n]"
   ]
  },
  {
   "cell_type": "code",
   "execution_count": 14,
   "metadata": {},
   "outputs": [
    {
     "output_type": "execute_result",
     "data": {
      "text/plain": [
       "5"
      ]
     },
     "metadata": {},
     "execution_count": 14
    }
   ],
   "source": [
    "solution(3)"
   ]
  },
  {
   "source": [
    "### 2-4. 효율적인 화폐 구성"
   ],
   "cell_type": "markdown",
   "metadata": {}
  },
  {
   "source": [
    "* 문제: M원을 만들기 위한 최소한의 화폐 개수"
   ],
   "cell_type": "markdown",
   "metadata": {}
  },
  {
   "source": [
    "**Solution**"
   ],
   "cell_type": "markdown",
   "metadata": {}
  },
  {
   "source": [
    "* 점화식: $a_i = min(a_i, a_{i-k}+1)$\n",
    "* 그리디 거스름돈 문제와 비슷하지만 화폐의 단위가 달라 그리디 사용 불가"
   ],
   "cell_type": "markdown",
   "metadata": {}
  },
  {
   "cell_type": "code",
   "execution_count": 15,
   "metadata": {},
   "outputs": [],
   "source": [
    "def solution(n, m, array):\n",
    "    d = [10001] * (m + 1)\n",
    "\n",
    "    d[0] = 0\n",
    "\n",
    "    for i in range(n):\n",
    "        for j in range(array[i], m + 1):\n",
    "            # (i - k)원을 만드는 방법이 존재하는 경우\n",
    "            if d[j - array[i]] != 10001: \n",
    "                d[j] = min(d[j], d[j - array[i]] + 1)\n",
    "\n",
    "    # 계산된 결과 출력\n",
    "    if d[m] == 10001: \n",
    "        return -1\n",
    "    else:\n",
    "        return d[m]"
   ]
  },
  {
   "cell_type": "code",
   "execution_count": 16,
   "metadata": {},
   "outputs": [
    {
     "output_type": "execute_result",
     "data": {
      "text/plain": [
       "5"
      ]
     },
     "metadata": {},
     "execution_count": 16
    }
   ],
   "source": [
    "solution(2, 15, [2, 3])"
   ]
  }
 ]
}