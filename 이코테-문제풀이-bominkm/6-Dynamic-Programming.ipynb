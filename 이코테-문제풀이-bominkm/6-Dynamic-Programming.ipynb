{
 "metadata": {
  "language_info": {
   "codemirror_mode": {
    "name": "ipython",
    "version": 3
   },
   "file_extension": ".py",
   "mimetype": "text/x-python",
   "name": "python",
   "nbconvert_exporter": "python",
   "pygments_lexer": "ipython3",
   "version": "3.8.5"
  },
  "orig_nbformat": 2,
  "kernelspec": {
   "name": "python385jvsc74a57bd0a08b232263a2c3586a8fb9be8156a4aaace43131629c72af5b236356470a6bed",
   "display_name": "Python 3.8.5 64-bit ('base': conda)"
  },
  "metadata": {
   "interpreter": {
    "hash": "a08b232263a2c3586a8fb9be8156a4aaace43131629c72af5b236356470a6bed"
   }
  }
 },
 "nbformat": 4,
 "nbformat_minor": 2,
 "cells": [
  {
   "source": [
    "# 다이나믹 프로그래밍"
   ],
   "cell_type": "markdown",
   "metadata": {}
  },
  {
   "source": [
    "## Q-31. 금광"
   ],
   "cell_type": "markdown",
   "metadata": {}
  },
  {
   "source": [
    "**Solution**"
   ],
   "cell_type": "markdown",
   "metadata": {}
  },
  {
   "source": [
    "* 점화식: $dp[i][j] = array[i][j] + max(dp[i-1][j-1], dp[i][j-1], dp[i+1][j-1])$"
   ],
   "cell_type": "markdown",
   "metadata": {}
  },
  {
   "cell_type": "code",
   "execution_count": 29,
   "metadata": {},
   "outputs": [
    {
     "output_type": "stream",
     "name": "stdout",
     "text": [
      "19\n",
      "16\n"
     ]
    }
   ],
   "source": [
    "# 테스트 케이스(Test Case) 입력\n",
    "for tc in range(int(input())):\n",
    "    # 금광 정보 입력\n",
    "    n, m = map(int, input().split())\n",
    "    array = list(map(int, input().split()))\n",
    "\n",
    "    # 다이나믹 프로그래밍을 위한 2차원 DP 테이블 초기화\n",
    "    dp = []\n",
    "    index = 0\n",
    "    for i in range(n):\n",
    "        dp.append(array[index:index + m])\n",
    "        index += m\n",
    "\n",
    "    # 다이나믹 프로그래밍 진행\n",
    "    for j in range(1, m):\n",
    "        for i in range(n):\n",
    "            # 왼쪽 위에서 오는 경우\n",
    "            if i == 0:\n",
    "                left_up = 0\n",
    "            else:\n",
    "                left_up = dp[i - 1][j - 1]\n",
    "            # 왼쪽 아래에서 오는 경우\n",
    "            if i == n - 1:\n",
    "                left_down = 0\n",
    "            else:\n",
    "                left_down = dp[i + 1][j - 1]\n",
    "            # 왼쪽에서 오는 경우\n",
    "            left = dp[i][j - 1]\n",
    "            dp[i][j] = dp[i][j] + max(left_up, left_down, left)\n",
    "\n",
    "    result = 0\n",
    "    for i in range(n):\n",
    "        result = max(result, dp[i][m - 1])\n",
    "\n",
    "    print(result)"
   ]
  },
  {
   "source": [
    "**My Solution**"
   ],
   "cell_type": "markdown",
   "metadata": {}
  },
  {
   "source": [
    "* **Idea**\n",
    "    * 점화식: $a_{i,j} = max(a_{i,j-1}, a_{i,j}, a_{i,j+1})$\n",
    "    * 오른쪽 위, 오른쪽, 오른쪽 아래 3가지 중 하나의 위치로만 이동할 수 있음"
   ],
   "cell_type": "markdown",
   "metadata": {}
  },
  {
   "source": [
    "* **Variable**\n",
    "    * t: 테스트 케이스 수\n",
    "    * n, m: 테스트 케이스의 행, 열\n",
    "    * gold: 매장된 금의 개수"
   ],
   "cell_type": "markdown",
   "metadata": {}
  },
  {
   "source": [
    "* **How to**\n",
    "    * 행렬로 주어지는 데이터는 1차원 -> 2차원 배열로 생각하기\n",
    "    * 행, 열 헷갈리기 쉬우므로 직접 계산해보면서 생각하기"
   ],
   "cell_type": "markdown",
   "metadata": {}
  },
  {
   "cell_type": "code",
   "execution_count": null,
   "metadata": {},
   "outputs": [],
   "source": [
    "def solution(t, nms, golds):\n",
    "    for n, m in nms:"
   ]
  },
  {
   "cell_type": "code",
   "execution_count": 1,
   "metadata": {},
   "outputs": [
    {
     "output_type": "stream",
     "name": "stdout",
     "text": [
      "3 4\n4 4\n"
     ]
    }
   ],
   "source": [
    "for n, m in [[3,4],[4,4]]:\n",
    "    print(n,m)"
   ]
  },
  {
   "cell_type": "code",
   "execution_count": 7,
   "metadata": {},
   "outputs": [],
   "source": [
    "# 예제\n",
    "a = [[3,4],[4,4]]\n",
    "b = [[1,3,3,2,2,1,4,1,0,6,4,7],[1,3,1,5,2,2,4,1,5,0,2,3,0,6,1,2]]\n",
    "t = 2"
   ]
  },
  {
   "cell_type": "code",
   "execution_count": 25,
   "metadata": {},
   "outputs": [],
   "source": [
    "# 메모이제이션 초기화\n",
    "d = [0]*a[0][1]\n",
    "\n",
    "# 초기값\n",
    "# 첫번째 열에 있는 값 중에 최댓값 선택\n",
    "d[0] = max(b[0][a[0][1]*0], b[0][a[0][1]*1], b[0][a[0][1]*2])\n",
    "\n",
    "for i in range(t):\n",
    "    for j in range(nms[i][1]):\n",
    "        d[i] = max() # 점화식 구현"
   ]
  },
  {
   "cell_type": "code",
   "execution_count": 28,
   "metadata": {},
   "outputs": [
    {
     "output_type": "stream",
     "name": "stdout",
     "text": [
      "1\n2\n0\n"
     ]
    }
   ],
   "source": [
    "# 첫번째 열의 값\n",
    "print(b[0][a[0][1]*0])\n",
    "print(b[0][a[0][1]*1])\n",
    "print(b[0][a[0][1]*2])"
   ]
  }
 ]
}