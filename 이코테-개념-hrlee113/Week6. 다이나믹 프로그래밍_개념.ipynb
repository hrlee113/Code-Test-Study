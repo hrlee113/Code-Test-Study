{
 "cells": [
  {
   "cell_type": "markdown",
   "id": "controlling-timothy",
   "metadata": {},
   "source": [
    "# Week6. 다이나믹 프로그래밍_개념  \n",
    "> 다이나믹 : 프로그램이 실행되는 도중에"
   ]
  },
  {
   "cell_type": "markdown",
   "id": "dense-uncertainty",
   "metadata": {},
   "source": [
    "* 다이나믹 프로그래밍 이용  \n",
    "1. 큰 문제를 작은 문제로 나눌 수 있을 때\n",
    "2. 작은 문제에서 구한 정답은 그것을 포함하는 큰 문제에서도 동일할 때  \n",
    "\n",
    "그 중에서도 **메모이제이션**기법 사용해보기"
   ]
  },
  {
   "cell_type": "markdown",
   "id": "working-disposal",
   "metadata": {},
   "source": [
    "## 1. 메모이제이션  \n",
    "* 다이나믹 프로그래밍의 한 방법 (그 중 **탑다운** 방식)  \n",
    "* 한번 구한 결과를 메모리 공간에 메모해두고 식을 다시 호출하면 결과를 그대로 가져오는 기법  \n",
    "* 값을 저장하는 방법이므로 **캐싱**이라고도 함  \n",
    "* 시간 복잡도 $O(N)$"
   ]
  },
  {
   "cell_type": "markdown",
   "id": "academic-bradley",
   "metadata": {},
   "source": [
    "#### ex. 수학적 점화식  \n",
    "피보나치 수열 : $a_{n} = a_{n-1} + a_{n-2}, a_{1} = 1, a_{2} = 1$"
   ]
  },
  {
   "cell_type": "markdown",
   "id": "pursuant-victorian",
   "metadata": {},
   "source": [
    "* 재귀함수 이용 : n이 커질수록 수행 시간이 기하급수적으로 늘어난다. (시간 복잡도 : $O(2^{N})$"
   ]
  },
  {
   "cell_type": "code",
   "execution_count": 1,
   "id": "handed-wedding",
   "metadata": {},
   "outputs": [
    {
     "name": "stdout",
     "output_type": "stream",
     "text": [
      "3\n"
     ]
    }
   ],
   "source": [
    "def fibo(x):\n",
    "    if x == 1 or x == 2:\n",
    "        return 1\n",
    "    return fibo(x-1) + fibo(x-2)\n",
    "\n",
    "print(fibo(4))"
   ]
  },
  {
   "cell_type": "code",
   "execution_count": 5,
   "id": "heard-nickname",
   "metadata": {},
   "outputs": [
    {
     "name": "stdout",
     "output_type": "stream",
     "text": [
      "f(6) f(5) f(4) f(3) f(2) f(1) f(2) f(3) f(4) "
     ]
    },
    {
     "data": {
      "text/plain": [
       "8"
      ]
     },
     "execution_count": 5,
     "metadata": {},
     "output_type": "execute_result"
    }
   ],
   "source": [
    "# 한 번 계산된 결과를 메모이제이션(Memoization)하기 위한 리스트 초기화\n",
    "d = [0] * 100\n",
    "\n",
    "# 피보나치 함수(Fibonacci Function)를 재귀함수로 구현(탑다운 다이나믹 프로그래밍)\n",
    "def fibo(x):\n",
    "    print('f(' + str(x) + ')', end = ' ')\n",
    "    # 종료 조건(1 또는 2일 때 1을 반환)\n",
    "    if x == 1 or x == 2:\n",
    "        return 1\n",
    "    # 이미 계산한 적 있는 문제라면 그대로 반환\n",
    "    if d[x] != 0:\n",
    "        return d[x]\n",
    "    # 아직 계산하지 않은 문제라면 점화식에 따라서 피보나치 결과 반환\n",
    "    d[x] = fibo(x-1) + fibo(x-2)\n",
    "    return d[x]\n",
    "\n",
    "fibo(6)"
   ]
  },
  {
   "cell_type": "markdown",
   "id": "separate-investment",
   "metadata": {},
   "source": [
    "## 2. 보텀업 방식  \n",
    ": 다이나믹 프로그래밍의 전형적인 형태"
   ]
  },
  {
   "cell_type": "markdown",
   "id": "numerical-solution",
   "metadata": {},
   "source": [
    "* 탑다운 방식 : 재귀함수를 통해서 다이나믹 프로그래밍 소스코드를 작성하는 방법 (큰 문제를 해결하기 위해 작은 문제를 호출)\n",
    "* 보텀업 방식 : 단순히 반복문을 이용하여 소스코드를 작성하는 방법 (작은 문제부터 차근차근 답을 도출)\n"
   ]
  },
  {
   "cell_type": "code",
   "execution_count": 7,
   "id": "arranged-evidence",
   "metadata": {},
   "outputs": [
    {
     "name": "stdout",
     "output_type": "stream",
     "text": [
      "218922995834555169026\n"
     ]
    }
   ],
   "source": [
    "d = [0] * 100\n",
    "\n",
    "d[1] = 1\n",
    "d[2] = 1\n",
    "n = 99\n",
    "\n",
    "for i in range(3, n+1):\n",
    "    d[i] = d[i-1] + d[i-2]\n",
    "    \n",
    "print(d[n])"
   ]
  },
  {
   "cell_type": "markdown",
   "id": "floral-above",
   "metadata": {},
   "source": [
    "## 수열 표현 방법  \n",
    "* 배열, 리스트  \n",
    "* 메모이제이션은 때에 따라 사전(`dict`) 이용가능"
   ]
  },
  {
   "cell_type": "markdown",
   "id": "delayed-lafayette",
   "metadata": {},
   "source": [
    "## 3. 정리  \n",
    "#### 다이나믹 프로그래밍 유형인지 파악하기  \n",
    "   * 특정한 문제를 완전 탐색 알고리즘으로 접근했을 때 시간이 너무 오래걸리면 적용가능한지 확인해보기  \n",
    "   * 재귀 함수로 비효율적인 프로그램을 작성했을 때 (탑다운) 작은 문제에서 구한 답이 큰 문제에서 그대로 사용가능하면 (메모이제이션이 가능하면) 코드 개선하기  "
   ]
  },
  {
   "cell_type": "markdown",
   "id": "julian-healing",
   "metadata": {},
   "source": [
    "#### 탑다운 방식보다는 보텀업 방식으로 구현하기  "
   ]
  },
  {
   "cell_type": "markdown",
   "id": "curious-concept",
   "metadata": {},
   "source": [
    " * 시스템상 재귀함수 스택 크기가 한정되어 있을 수도.. (`recursion depth` 재귀함수 깊이 문제)  \n",
    " * 만약 재귀함수 깊이 관련하여 오류가 발생하면 `sys` 라이브러리에 있는 `setrecursionlimit()`함수를 호출하여 재귀 제한을 완화할 수는 있다"
   ]
  },
  {
   "cell_type": "markdown",
   "id": "cellular-substitute",
   "metadata": {},
   "source": [
    "## 예제  \n",
    "풀어보기\n",
    "  \n",
    "### 1로 만들기"
   ]
  },
  {
   "cell_type": "markdown",
   "id": "gentle-indianapolis",
   "metadata": {},
   "source": [
    "#### My code"
   ]
  }
 ],
 "metadata": {
  "kernelspec": {
   "display_name": "Python 3",
   "language": "python",
   "name": "python3"
  },
  "language_info": {
   "codemirror_mode": {
    "name": "ipython",
    "version": 3
   },
   "file_extension": ".py",
   "mimetype": "text/x-python",
   "name": "python",
   "nbconvert_exporter": "python",
   "pygments_lexer": "ipython3",
   "version": "3.6.5"
  }
 },
 "nbformat": 4,
 "nbformat_minor": 5
}
